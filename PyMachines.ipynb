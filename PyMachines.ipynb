{
 "cells": [
  {
   "cell_type": "markdown",
   "metadata": {},
   "source": [
    "## PyFactorizationMachines\n",
    "### https://github.com/dstein64/PyFactorizationMachines/blob/master/documentation.md"
   ]
  },
  {
   "cell_type": "code",
   "execution_count": 1,
   "metadata": {},
   "outputs": [
    {
     "name": "stderr",
     "output_type": "stream",
     "text": [
      "WARNING (theano.configdefaults): g++ not available, if using conda: `conda install m2w64-toolchain`\n",
      "C:\\Users\\maksim.parats\\AppData\\Local\\Programs\\Python\\Python36\\lib\\site-packages\\theano\\configdefaults.py:560: UserWarning: DeprecationWarning: there is no c++ compiler.This is deprecated and with Theano 0.11 a c++ compiler will be mandatory\n",
      "  warnings.warn(\"DeprecationWarning: there is no c++ compiler.\"\n",
      "WARNING (theano.configdefaults): g++ not detected ! Theano will be unable to execute optimized C-implementations (for both CPU and GPU) and will default to Python implementations. Performance will be severely degraded. To remove this warning, set Theano flags cxx to an empty string.\n",
      "WARNING (theano.tensor.blas): Using NumPy C-API based implementation for BLAS functions.\n"
     ]
    }
   ],
   "source": [
    "import pandas as pd\n",
    "import numpy as np\n",
    "import scipy.sparse as sp\n",
    "import tensorflow as tf\n",
    "import matplotlib.pyplot as plt\n",
    "import pyfms\n",
    "import pyfms.regularizers\n",
    "from time import time\n",
    "from sklearn import preprocessing\n",
    "from sklearn.feature_extraction import DictVectorizer\n",
    "from random import random\n",
    "from sklearn.model_selection import train_test_split\n",
    "from sklearn.metrics import accuracy_score, classification_report, confusion_matrix\n",
    "from imblearn.metrics import sensitivity_score\n",
    "from imblearn.metrics import specificity_score\n",
    "%matplotlib inline"
   ]
  },
  {
   "cell_type": "code",
   "execution_count": 5,
   "metadata": {},
   "outputs": [
    {
     "data": {
      "text/html": [
       "<div>\n",
       "<style scoped>\n",
       "    .dataframe tbody tr th:only-of-type {\n",
       "        vertical-align: middle;\n",
       "    }\n",
       "\n",
       "    .dataframe tbody tr th {\n",
       "        vertical-align: top;\n",
       "    }\n",
       "\n",
       "    .dataframe thead th {\n",
       "        text-align: right;\n",
       "    }\n",
       "</style>\n",
       "<table border=\"1\" class=\"dataframe\">\n",
       "  <thead>\n",
       "    <tr style=\"text-align: right;\">\n",
       "      <th></th>\n",
       "      <th>Click</th>\n",
       "      <th>Browsname</th>\n",
       "      <th>Searcher</th>\n",
       "      <th>TypeCon</th>\n",
       "      <th>Country</th>\n",
       "      <th>deviceType</th>\n",
       "      <th>Model</th>\n",
       "      <th>ModelCompany</th>\n",
       "      <th>NewID</th>\n",
       "      <th>Reversed</th>\n",
       "      <th>Type</th>\n",
       "      <th>System</th>\n",
       "      <th>FirstSearcher</th>\n",
       "      <th>Version</th>\n",
       "      <th>Sex</th>\n",
       "      <th>Age</th>\n",
       "      <th>TimeSpent</th>\n",
       "      <th>InternalCode</th>\n",
       "      <th>id_transf</th>\n",
       "    </tr>\n",
       "  </thead>\n",
       "  <tbody>\n",
       "    <tr>\n",
       "      <th>0</th>\n",
       "      <td>0.0</td>\n",
       "      <td>Chrome</td>\n",
       "      <td>Google</td>\n",
       "      <td>wi-fi</td>\n",
       "      <td>ita</td>\n",
       "      <td>SmartPhone</td>\n",
       "      <td>Nokia 2240</td>\n",
       "      <td>Nokia</td>\n",
       "      <td>yes</td>\n",
       "      <td>no</td>\n",
       "      <td>mobile</td>\n",
       "      <td>Android</td>\n",
       "      <td>Yahoo</td>\n",
       "      <td>5.0</td>\n",
       "      <td>male</td>\n",
       "      <td>21</td>\n",
       "      <td>1.020</td>\n",
       "      <td>fergie</td>\n",
       "      <td>25465885</td>\n",
       "    </tr>\n",
       "    <tr>\n",
       "      <th>1</th>\n",
       "      <td>0.0</td>\n",
       "      <td>Firefox</td>\n",
       "      <td>Yahoo</td>\n",
       "      <td>cable</td>\n",
       "      <td>fra</td>\n",
       "      <td>SmartPhone</td>\n",
       "      <td>Meizu 4 pro</td>\n",
       "      <td>Meizu</td>\n",
       "      <td>yes</td>\n",
       "      <td>no</td>\n",
       "      <td>TV</td>\n",
       "      <td>Android</td>\n",
       "      <td>Yahoo</td>\n",
       "      <td>4.2</td>\n",
       "      <td>female</td>\n",
       "      <td>34</td>\n",
       "      <td>0.123</td>\n",
       "      <td>krag</td>\n",
       "      <td>65458971</td>\n",
       "    </tr>\n",
       "    <tr>\n",
       "      <th>2</th>\n",
       "      <td>0.0</td>\n",
       "      <td>Chrome</td>\n",
       "      <td>Yandex</td>\n",
       "      <td>wi-fi</td>\n",
       "      <td>rus</td>\n",
       "      <td>SmartPhone</td>\n",
       "      <td>Iphone 6</td>\n",
       "      <td>Iphone</td>\n",
       "      <td>yes</td>\n",
       "      <td>yes</td>\n",
       "      <td>mobile</td>\n",
       "      <td>Ios</td>\n",
       "      <td>Yahoo</td>\n",
       "      <td>9.0</td>\n",
       "      <td>male</td>\n",
       "      <td>53</td>\n",
       "      <td>0.140</td>\n",
       "      <td>leslie</td>\n",
       "      <td>21547895</td>\n",
       "    </tr>\n",
       "    <tr>\n",
       "      <th>3</th>\n",
       "      <td>0.0</td>\n",
       "      <td>IE</td>\n",
       "      <td>Google</td>\n",
       "      <td>cable</td>\n",
       "      <td>usa</td>\n",
       "      <td>SmartPhone</td>\n",
       "      <td>Iphone X</td>\n",
       "      <td>Iphone</td>\n",
       "      <td>no</td>\n",
       "      <td>no</td>\n",
       "      <td>web</td>\n",
       "      <td>Ios</td>\n",
       "      <td>Yahoo</td>\n",
       "      <td>9.0</td>\n",
       "      <td>male</td>\n",
       "      <td>30</td>\n",
       "      <td>0.010</td>\n",
       "      <td>fergie</td>\n",
       "      <td>32541568</td>\n",
       "    </tr>\n",
       "    <tr>\n",
       "      <th>4</th>\n",
       "      <td>0.0</td>\n",
       "      <td>IE</td>\n",
       "      <td>Google</td>\n",
       "      <td>wi-fi</td>\n",
       "      <td>usa</td>\n",
       "      <td>SmartPhone</td>\n",
       "      <td>Galaxy J4</td>\n",
       "      <td>SAMSUNG</td>\n",
       "      <td>no</td>\n",
       "      <td>no</td>\n",
       "      <td>TV</td>\n",
       "      <td>Android</td>\n",
       "      <td>Yahoo</td>\n",
       "      <td>5.5.1</td>\n",
       "      <td>female</td>\n",
       "      <td>15</td>\n",
       "      <td>1.100</td>\n",
       "      <td>frent</td>\n",
       "      <td>12023515</td>\n",
       "    </tr>\n",
       "  </tbody>\n",
       "</table>\n",
       "</div>"
      ],
      "text/plain": [
       "   Click Browsname Searcher TypeCon Country  deviceType        Model  \\\n",
       "0    0.0    Chrome   Google   wi-fi     ita  SmartPhone   Nokia 2240   \n",
       "1    0.0   Firefox    Yahoo   cable     fra  SmartPhone  Meizu 4 pro   \n",
       "2    0.0    Chrome   Yandex   wi-fi     rus  SmartPhone     Iphone 6   \n",
       "3    0.0        IE   Google   cable     usa  SmartPhone     Iphone X   \n",
       "4    0.0        IE   Google   wi-fi     usa  SmartPhone    Galaxy J4   \n",
       "\n",
       "  ModelCompany NewID Reversed    Type   System FirstSearcher Version     Sex  \\\n",
       "0        Nokia   yes       no  mobile  Android         Yahoo     5.0    male   \n",
       "1        Meizu   yes       no      TV  Android         Yahoo     4.2  female   \n",
       "2       Iphone   yes      yes  mobile      Ios         Yahoo     9.0    male   \n",
       "3       Iphone    no       no     web      Ios         Yahoo     9.0    male   \n",
       "4      SAMSUNG    no       no      TV  Android         Yahoo   5.5.1  female   \n",
       "\n",
       "   Age  TimeSpent InternalCode  id_transf  \n",
       "0   21      1.020       fergie   25465885  \n",
       "1   34      0.123         krag   65458971  \n",
       "2   53      0.140       leslie   21547895  \n",
       "3   30      0.010       fergie   32541568  \n",
       "4   15      1.100        frent   12023515  "
      ]
     },
     "execution_count": 5,
     "metadata": {},
     "output_type": "execute_result"
    }
   ],
   "source": [
    "# preprocessing\n",
    "data = pd.read_csv('...\\data_net.csv', sep = ';')\n",
    "data.head()"
   ]
  },
  {
   "cell_type": "code",
   "execution_count": 6,
   "metadata": {},
   "outputs": [],
   "source": [
    "# features & labels\n",
    "labels = data['Click']\n",
    "features = data.drop('Click', axis = 1)"
   ]
  },
  {
   "cell_type": "code",
   "execution_count": 7,
   "metadata": {},
   "outputs": [
    {
     "data": {
      "text/plain": [
       "OneHotEncoder(categorical_features=None,\n",
       "       categories=[['Chrome', 'Firefox', 'IE'], ['Google', 'Yahoo', 'Yandex'], ['wi-fi', 'cable'], ['ita', 'fra', 'rus', 'usa'], ['SmartPhone'], ['Nokia 2240', 'Meizu 4 pro', 'Iphone 6', 'Iphone X', 'Galaxy J4'], ['Nokia', 'Meizu', 'Iphone', 'SAMSUNG'], ['yes', 'no'], ['no', 'yes'], ['mobile', 'TV', 'web']...01, 1.1], ['fergie', 'krag', 'leslie', 'frent'], [25465885, 65458971, 21547895, 32541568, 12023515]],\n",
       "       dtype=<class 'numpy.float64'>, handle_unknown='ignore',\n",
       "       n_values=None, sparse=False)"
      ]
     },
     "execution_count": 7,
     "metadata": {},
     "output_type": "execute_result"
    }
   ],
   "source": [
    "# create the dictionary of unique attributes' lists\n",
    "unique_attr = {}\n",
    "for attr in features.columns:\n",
    "    unique_attr[attr] = features[attr].unique().tolist()\n",
    "unique_attr\n",
    "# features encoding\n",
    "encoder = preprocessing.OneHotEncoder(categories=[unique_attr[i] for i in unique_attr], sparse = False, handle_unknown='ignore')\n",
    "encoder"
   ]
  },
  {
   "cell_type": "code",
   "execution_count": 8,
   "metadata": {
    "scrolled": true
   },
   "outputs": [
    {
     "data": {
      "text/plain": [
       "0    [Chrome, Google, wi-fi, ita, SmartPhone, Nokia...\n",
       "1    [Firefox, Yahoo, cable, fra, SmartPhone, Meizu...\n",
       "2    [Chrome, Yandex, wi-fi, rus, SmartPhone, Iphon...\n",
       "3    [IE, Google, cable, usa, SmartPhone, Iphone X,...\n",
       "4    [IE, Google, wi-fi, usa, SmartPhone, Galaxy J4...\n",
       "Name: CONCAT, dtype: object"
      ]
     },
     "execution_count": 8,
     "metadata": {},
     "output_type": "execute_result"
    }
   ],
   "source": [
    "features['CONCAT'] = features.values.tolist()\n",
    "features['CONCAT'].head()"
   ]
  },
  {
   "cell_type": "code",
   "execution_count": 36,
   "metadata": {},
   "outputs": [
    {
     "name": "stdout",
     "output_type": "stream",
     "text": [
      "time on encoding: 14.23 s\n"
     ]
    }
   ],
   "source": [
    "t0 = time()\n",
    "features['ENCODED'] = [encoder.fit_transform([i]).flatten() for i in features['CONCAT']]\n",
    "print (\"time on encoding:\", round(time()-t0, 3), \"s\")"
   ]
  },
  {
   "cell_type": "code",
   "execution_count": 37,
   "metadata": {},
   "outputs": [],
   "source": [
    "# create the array with feature vectors\n",
    "features_list = [list(i) for i in features['ENCODED']]\n",
    "features_list_array = np.array(features_list)"
   ]
  },
  {
   "cell_type": "code",
   "execution_count": 38,
   "metadata": {},
   "outputs": [],
   "source": [
    "# create the array with label vector \n",
    "labels_list_array = np.array(labels.tolist())"
   ]
  },
  {
   "cell_type": "code",
   "execution_count": 39,
   "metadata": {},
   "outputs": [],
   "source": [
    "X_train, X_test, y_train, y_test = train_test_split(features_list_array, labels_list_array, random_state=42, test_size=0.3)"
   ]
  },
  {
   "cell_type": "code",
   "execution_count": 40,
   "metadata": {},
   "outputs": [],
   "source": [
    "# error score function\n",
    "def error_score(y_true, y_pred):\n",
    "    return 1.0 - accuracy_score(y_true, y_pred)"
   ]
  },
  {
   "cell_type": "code",
   "execution_count": 41,
   "metadata": {},
   "outputs": [
    {
     "name": "stdout",
     "output_type": "stream",
     "text": [
      "* Binary Classification Example\n",
      "* (with sample weighting and sparse data)\n"
     ]
    }
   ],
   "source": [
    "print('* Binary Classification Example')\n",
    "print('* (with sample weighting and sparse data)')"
   ]
  },
  {
   "cell_type": "code",
   "execution_count": 42,
   "metadata": {},
   "outputs": [],
   "source": [
    "# only CSR format supported\n",
    "X_train_sparse = sp.csr_matrix(X_train)\n",
    "X_test_sparse = sp.csr_matrix(X_test)"
   ]
  },
  {
   "cell_type": "code",
   "execution_count": 43,
   "metadata": {},
   "outputs": [],
   "source": [
    "# define dimensions\n",
    "classifier_dims = features_list_array.shape[1]"
   ]
  },
  {
   "cell_type": "code",
   "execution_count": 44,
   "metadata": {},
   "outputs": [],
   "source": [
    "# classifier initializing\n",
    "fm_classifier = pyfms.Classifier(classifier_dims, k=2, X_format=\"csr\")"
   ]
  },
  {
   "cell_type": "code",
   "execution_count": 45,
   "metadata": {},
   "outputs": [],
   "source": [
    "# define number of items within 2 classes and weights\n",
    "class_count_lookup = dict(zip(*np.unique(y_train, return_counts=True)))\n",
    "sample_weight = np.array([1.0 / class_count_lookup[_y] for _y in y_train])"
   ]
  },
  {
   "cell_type": "code",
   "execution_count": 46,
   "metadata": {},
   "outputs": [
    {
     "name": "stdout",
     "output_type": "stream",
     "text": [
      "Factorization Machine Error: 0.07633333333333336\n",
      "Accuracy is  92.36666666666666\n",
      "              precision    recall  f1-score   support\n",
      "\n",
      "         0.0       0.93      1.00      0.96      5530\n",
      "         1.0       0.63      0.06      0.11       470\n",
      "\n",
      "   micro avg       0.92      0.92      0.92      6000\n",
      "   macro avg       0.78      0.53      0.54      6000\n",
      "weighted avg       0.90      0.92      0.89      6000\n",
      "\n",
      "[[5513   17]\n",
      " [ 441   29]]\n",
      "Sensivity score is  0.06170212765957447\n",
      "Specificity_score is  0.9969258589511754\n",
      "time on encoding: 1742.691 s\n"
     ]
    }
   ],
   "source": [
    "# training, prediction, testing model\n",
    "t0 = time()\n",
    "fm_classifier.fit(X_train_sparse, y_train)\n",
    "predictions = fm_classifier.predict(X_test_sparse)\n",
    "print('Factorization Machine Error: {}'.format(error_score(y_test, predictions)))\n",
    "print('Accuracy is ', accuracy_score(y_test, predictions)*100)\n",
    "print(classification_report(y_test, predictions))\n",
    "print(confusion_matrix(y_test,predictions))\n",
    "print('Sensivity score is ', sensitivity_score(y_test, predictions))\n",
    "print('Specificity_score is ', specificity_score(y_test, predictions))\n",
    "print (\"time on encoding:\", round(time()-t0, 3), \"s\")"
   ]
  }
 ],
 "metadata": {
  "kernelspec": {
   "display_name": "Python 3",
   "language": "python",
   "name": "python3"
  },
  "language_info": {
   "codemirror_mode": {
    "name": "ipython",
    "version": 3
   },
   "file_extension": ".py",
   "mimetype": "text/x-python",
   "name": "python",
   "nbconvert_exporter": "python",
   "pygments_lexer": "ipython3",
   "version": "3.6.6"
  }
 },
 "nbformat": 4,
 "nbformat_minor": 2
}
