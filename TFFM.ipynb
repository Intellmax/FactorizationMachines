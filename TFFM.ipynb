{
 "cells": [
  {
   "cell_type": "markdown",
   "metadata": {},
   "source": [
    "## TFFMClassifier"
   ]
  },
  {
   "cell_type": "code",
   "execution_count": 1,
   "metadata": {},
   "outputs": [],
   "source": [
    "import pandas as pd\n",
    "import numpy as np\n",
    "import scipy.sparse as sp\n",
    "import tensorflow as tf\n",
    "import matplotlib.pyplot as plt\n",
    "from time import time\n",
    "from random import random\n",
    "from sklearn import preprocessing\n",
    "from sklearn.feature_extraction import DictVectorizer\n",
    "from sklearn.model_selection import train_test_split\n",
    "from sklearn.linear_model import LogisticRegression\n",
    "from sklearn.ensemble import RandomForestClassifier\n",
    "from sklearn import tree\n",
    "from sklearn.metrics import accuracy_score, classification_report, confusion_matrix\n",
    "from imblearn.metrics import sensitivity_score\n",
    "from imblearn.metrics import specificity_score\n",
    "from tffm import TFFMClassifier\n",
    "%matplotlib inline"
   ]
  },
  {
   "cell_type": "code",
   "execution_count": 5,
   "metadata": {},
   "outputs": [
    {
     "data": {
      "text/html": [
       "<div>\n",
       "<style scoped>\n",
       "    .dataframe tbody tr th:only-of-type {\n",
       "        vertical-align: middle;\n",
       "    }\n",
       "\n",
       "    .dataframe tbody tr th {\n",
       "        vertical-align: top;\n",
       "    }\n",
       "\n",
       "    .dataframe thead th {\n",
       "        text-align: right;\n",
       "    }\n",
       "</style>\n",
       "<table border=\"1\" class=\"dataframe\">\n",
       "  <thead>\n",
       "    <tr style=\"text-align: right;\">\n",
       "      <th></th>\n",
       "      <th>Click</th>\n",
       "      <th>Browsname</th>\n",
       "      <th>Searcher</th>\n",
       "      <th>TypeCon</th>\n",
       "      <th>Country</th>\n",
       "      <th>deviceType</th>\n",
       "      <th>Model</th>\n",
       "      <th>ModelCompany</th>\n",
       "      <th>NewID</th>\n",
       "      <th>Reversed</th>\n",
       "      <th>Type</th>\n",
       "      <th>System</th>\n",
       "      <th>FirstSearcher</th>\n",
       "      <th>Version</th>\n",
       "      <th>Sex</th>\n",
       "      <th>Age</th>\n",
       "      <th>TimeSpent</th>\n",
       "      <th>InternalCode</th>\n",
       "      <th>id_transf</th>\n",
       "    </tr>\n",
       "  </thead>\n",
       "  <tbody>\n",
       "    <tr>\n",
       "      <th>0</th>\n",
       "      <td>0.0</td>\n",
       "      <td>Chrome</td>\n",
       "      <td>Google</td>\n",
       "      <td>wi-fi</td>\n",
       "      <td>ita</td>\n",
       "      <td>SmartPhone</td>\n",
       "      <td>Nokia 2240</td>\n",
       "      <td>Nokia</td>\n",
       "      <td>yes</td>\n",
       "      <td>no</td>\n",
       "      <td>mobile</td>\n",
       "      <td>Android</td>\n",
       "      <td>Yahoo</td>\n",
       "      <td>5.0</td>\n",
       "      <td>male</td>\n",
       "      <td>21</td>\n",
       "      <td>1.020</td>\n",
       "      <td>fergie</td>\n",
       "      <td>25465885</td>\n",
       "    </tr>\n",
       "    <tr>\n",
       "      <th>1</th>\n",
       "      <td>0.0</td>\n",
       "      <td>Firefox</td>\n",
       "      <td>Yahoo</td>\n",
       "      <td>cable</td>\n",
       "      <td>fra</td>\n",
       "      <td>SmartPhone</td>\n",
       "      <td>Meizu 4 pro</td>\n",
       "      <td>Meizu</td>\n",
       "      <td>yes</td>\n",
       "      <td>no</td>\n",
       "      <td>TV</td>\n",
       "      <td>Android</td>\n",
       "      <td>Yahoo</td>\n",
       "      <td>4.2</td>\n",
       "      <td>female</td>\n",
       "      <td>34</td>\n",
       "      <td>0.123</td>\n",
       "      <td>krag</td>\n",
       "      <td>65458971</td>\n",
       "    </tr>\n",
       "    <tr>\n",
       "      <th>2</th>\n",
       "      <td>0.0</td>\n",
       "      <td>Chrome</td>\n",
       "      <td>Yandex</td>\n",
       "      <td>wi-fi</td>\n",
       "      <td>rus</td>\n",
       "      <td>SmartPhone</td>\n",
       "      <td>Iphone 6</td>\n",
       "      <td>Iphone</td>\n",
       "      <td>yes</td>\n",
       "      <td>yes</td>\n",
       "      <td>mobile</td>\n",
       "      <td>Ios</td>\n",
       "      <td>Yahoo</td>\n",
       "      <td>9.0</td>\n",
       "      <td>male</td>\n",
       "      <td>53</td>\n",
       "      <td>0.140</td>\n",
       "      <td>leslie</td>\n",
       "      <td>21547895</td>\n",
       "    </tr>\n",
       "    <tr>\n",
       "      <th>3</th>\n",
       "      <td>0.0</td>\n",
       "      <td>IE</td>\n",
       "      <td>Google</td>\n",
       "      <td>cable</td>\n",
       "      <td>usa</td>\n",
       "      <td>SmartPhone</td>\n",
       "      <td>Iphone X</td>\n",
       "      <td>Iphone</td>\n",
       "      <td>no</td>\n",
       "      <td>no</td>\n",
       "      <td>web</td>\n",
       "      <td>Ios</td>\n",
       "      <td>Yahoo</td>\n",
       "      <td>9.0</td>\n",
       "      <td>male</td>\n",
       "      <td>30</td>\n",
       "      <td>0.010</td>\n",
       "      <td>fergie</td>\n",
       "      <td>32541568</td>\n",
       "    </tr>\n",
       "    <tr>\n",
       "      <th>4</th>\n",
       "      <td>0.0</td>\n",
       "      <td>IE</td>\n",
       "      <td>Google</td>\n",
       "      <td>wi-fi</td>\n",
       "      <td>usa</td>\n",
       "      <td>SmartPhone</td>\n",
       "      <td>Galaxy J4</td>\n",
       "      <td>SAMSUNG</td>\n",
       "      <td>no</td>\n",
       "      <td>no</td>\n",
       "      <td>TV</td>\n",
       "      <td>Android</td>\n",
       "      <td>Yahoo</td>\n",
       "      <td>5.5.1</td>\n",
       "      <td>female</td>\n",
       "      <td>15</td>\n",
       "      <td>1.100</td>\n",
       "      <td>frent</td>\n",
       "      <td>12023515</td>\n",
       "    </tr>\n",
       "  </tbody>\n",
       "</table>\n",
       "</div>"
      ],
      "text/plain": [
       "   Click Browsname Searcher TypeCon Country  deviceType        Model  \\\n",
       "0    0.0    Chrome   Google   wi-fi     ita  SmartPhone   Nokia 2240   \n",
       "1    0.0   Firefox    Yahoo   cable     fra  SmartPhone  Meizu 4 pro   \n",
       "2    0.0    Chrome   Yandex   wi-fi     rus  SmartPhone     Iphone 6   \n",
       "3    0.0        IE   Google   cable     usa  SmartPhone     Iphone X   \n",
       "4    0.0        IE   Google   wi-fi     usa  SmartPhone    Galaxy J4   \n",
       "\n",
       "  ModelCompany NewID Reversed    Type   System FirstSearcher Version     Sex  \\\n",
       "0        Nokia   yes       no  mobile  Android         Yahoo     5.0    male   \n",
       "1        Meizu   yes       no      TV  Android         Yahoo     4.2  female   \n",
       "2       Iphone   yes      yes  mobile      Ios         Yahoo     9.0    male   \n",
       "3       Iphone    no       no     web      Ios         Yahoo     9.0    male   \n",
       "4      SAMSUNG    no       no      TV  Android         Yahoo   5.5.1  female   \n",
       "\n",
       "   Age  TimeSpent InternalCode  id_transf  \n",
       "0   21      1.020       fergie   25465885  \n",
       "1   34      0.123         krag   65458971  \n",
       "2   53      0.140       leslie   21547895  \n",
       "3   30      0.010       fergie   32541568  \n",
       "4   15      1.100        frent   12023515  "
      ]
     },
     "execution_count": 5,
     "metadata": {},
     "output_type": "execute_result"
    }
   ],
   "source": [
    "# preprocessing\n",
    "data = pd.read_csv('...\\data_net.csv', sep = ';')\n",
    "data.head()"
   ]
  },
  {
   "cell_type": "code",
   "execution_count": 6,
   "metadata": {},
   "outputs": [],
   "source": [
    "# features & labels\n",
    "labels = data['Click']\n",
    "features = data.drop('Click', axis = 1)"
   ]
  },
  {
   "cell_type": "code",
   "execution_count": 7,
   "metadata": {},
   "outputs": [
    {
     "data": {
      "text/plain": [
       "Index(['Browsname', 'Searcher', 'TypeCon', 'Country', 'deviceType', 'Model',\n",
       "       'ModelCompany', 'NewID', 'Reversed', 'Type', 'System', 'FirstSearcher',\n",
       "       'Version', 'Sex', 'Age', 'TimeSpent', 'InternalCode', 'id_transf'],\n",
       "      dtype='object')"
      ]
     },
     "execution_count": 7,
     "metadata": {},
     "output_type": "execute_result"
    }
   ],
   "source": [
    "features.columns"
   ]
  },
  {
   "cell_type": "code",
   "execution_count": 8,
   "metadata": {},
   "outputs": [
    {
     "data": {
      "text/plain": [
       "['male', 'female']"
      ]
     },
     "execution_count": 8,
     "metadata": {},
     "output_type": "execute_result"
    }
   ],
   "source": [
    "# create the dictionary of unique attributes' lists\n",
    "unique_attr = {}\n",
    "for attr in features.columns:\n",
    "    unique_attr[attr] = features[attr].unique().tolist()\n",
    "unique_attr['Sex']"
   ]
  },
  {
   "cell_type": "code",
   "execution_count": 9,
   "metadata": {},
   "outputs": [
    {
     "data": {
      "text/plain": [
       "OneHotEncoder(categorical_features=None,\n",
       "       categories=[['Chrome', 'Firefox', 'IE'], ['Google', 'Yahoo', 'Yandex'], ['wi-fi', 'cable'], ['ita', 'fra', 'rus', 'usa'], ['SmartPhone'], ['Nokia 2240', 'Meizu 4 pro', 'Iphone 6', 'Iphone X', 'Galaxy J4'], ['Nokia', 'Meizu', 'Iphone', 'SAMSUNG'], ['yes', 'no'], ['no', 'yes'], ['mobile', 'TV', 'web']...01, 1.1], ['fergie', 'krag', 'leslie', 'frent'], [25465885, 65458971, 21547895, 32541568, 12023515]],\n",
       "       dtype=<class 'numpy.float64'>, handle_unknown='ignore',\n",
       "       n_values=None, sparse=False)"
      ]
     },
     "execution_count": 9,
     "metadata": {},
     "output_type": "execute_result"
    }
   ],
   "source": [
    "# features encoding\n",
    "encoder = preprocessing.OneHotEncoder(categories=[unique_attr[i] for i in unique_attr], sparse = False, handle_unknown='ignore')\n",
    "encoder"
   ]
  },
  {
   "cell_type": "code",
   "execution_count": 10,
   "metadata": {},
   "outputs": [
    {
     "data": {
      "text/plain": [
       "0    [Chrome, Google, wi-fi, ita, SmartPhone, Nokia...\n",
       "1    [Firefox, Yahoo, cable, fra, SmartPhone, Meizu...\n",
       "2    [Chrome, Yandex, wi-fi, rus, SmartPhone, Iphon...\n",
       "3    [IE, Google, cable, usa, SmartPhone, Iphone X,...\n",
       "4    [IE, Google, wi-fi, usa, SmartPhone, Galaxy J4...\n",
       "Name: CONCAT, dtype: object"
      ]
     },
     "execution_count": 10,
     "metadata": {},
     "output_type": "execute_result"
    }
   ],
   "source": [
    "features['CONCAT'] = features.values.tolist()\n",
    "features['CONCAT'].head()"
   ]
  },
  {
   "cell_type": "code",
   "execution_count": 27,
   "metadata": {},
   "outputs": [
    {
     "name": "stdout",
     "output_type": "stream",
     "text": [
      "time on encoding: 35.49 s\n"
     ]
    }
   ],
   "source": [
    "t0 = time()\n",
    "features['ENCODED'] = [encoder.fit_transform([i]).flatten() for i in features['CONCAT']]\n",
    "print (\"time on encoding:\", round(time()-t0, 3), \"s\")"
   ]
  },
  {
   "cell_type": "code",
   "execution_count": 28,
   "metadata": {},
   "outputs": [],
   "source": [
    "# create the array with feature vectors\n",
    "features_list = [list(i) for i in features['ENCODED']]\n",
    "features_list_array = np.array(features_list)"
   ]
  },
  {
   "cell_type": "code",
   "execution_count": 30,
   "metadata": {},
   "outputs": [],
   "source": [
    "# create the array with label vector \n",
    "labels_list_array = np.array(labels.tolist())"
   ]
  },
  {
   "cell_type": "code",
   "execution_count": 31,
   "metadata": {},
   "outputs": [],
   "source": [
    "X_train, X_test, y_train, y_test = train_test_split(features_list_array, labels_list_array, random_state=42, test_size=0.3)"
   ]
  },
  {
   "cell_type": "code",
   "execution_count": 37,
   "metadata": {},
   "outputs": [
    {
     "name": "stderr",
     "output_type": "stream",
     "text": [
      "C:\\Users\\maksim.parats\\AppData\\Local\\Programs\\Python\\Python36\\lib\\site-packages\\sklearn\\linear_model\\logistic.py:432: FutureWarning: Default solver will be changed to 'lbfgs' in 0.22. Specify a solver to silence this warning.\n",
      "  FutureWarning)\n"
     ]
    },
    {
     "name": "stdout",
     "output_type": "stream",
     "text": [
      "model: LogisticRegression(C=1.0, class_weight=None, dual=False, fit_intercept=True,\n",
      "          intercept_scaling=1, max_iter=100, multi_class='warn',\n",
      "          n_jobs=None, penalty='l2', random_state=None, solver='warn',\n",
      "          tol=0.0001, verbose=0, warm_start=False)\n",
      "Accuracy is  93.13333333333334\n",
      "              precision    recall  f1-score   support\n",
      "\n",
      "         0.0       0.93      1.00      0.96     13906\n",
      "         1.0       1.00      0.06      0.11      1094\n",
      "\n",
      "   micro avg       0.93      0.93      0.93     15000\n",
      "   macro avg       0.97      0.53      0.54     15000\n",
      "weighted avg       0.94      0.93      0.90     15000\n",
      "\n",
      "[[13906     0]\n",
      " [ 1030    64]]\n",
      "Sensivity score is  0.05850091407678245\n",
      "Specificity_score is  1.0\n",
      "\n",
      "model: RandomForestClassifier(bootstrap=True, class_weight=None, criterion='gini',\n",
      "            max_depth=None, max_features='auto', max_leaf_nodes=None,\n",
      "            min_impurity_decrease=0.0, min_impurity_split=None,\n",
      "            min_samples_leaf=1, min_samples_split=2,\n",
      "            min_weight_fraction_leaf=0.0, n_estimators=200, n_jobs=-1,\n",
      "            oob_score=False, random_state=None, verbose=0,\n",
      "            warm_start=False)\n",
      "Accuracy is  92.20666666666666\n",
      "              precision    recall  f1-score   support\n",
      "\n",
      "         0.0       0.93      0.99      0.96     13906\n",
      "         1.0       0.36      0.09      0.14      1094\n",
      "\n",
      "   micro avg       0.92      0.92      0.92     15000\n",
      "   macro avg       0.65      0.54      0.55     15000\n",
      "weighted avg       0.89      0.92      0.90     15000\n",
      "\n",
      "[[13732   174]\n",
      " [  995    99]]\n",
      "Sensivity score is  0.09049360146252285\n",
      "Specificity_score is  0.9874874155040989\n",
      "\n",
      "model: DecisionTreeClassifier(class_weight=None, criterion='gini', max_depth=None,\n",
      "            max_features=None, max_leaf_nodes=None,\n",
      "            min_impurity_decrease=0.0, min_impurity_split=None,\n",
      "            min_samples_leaf=1, min_samples_split=2,\n",
      "            min_weight_fraction_leaf=0.0, presort=False, random_state=None,\n",
      "            splitter='best')\n",
      "Accuracy is  89.66666666666666\n",
      "              precision    recall  f1-score   support\n",
      "\n",
      "         0.0       0.94      0.95      0.94     13906\n",
      "         1.0       0.23      0.18      0.21      1094\n",
      "\n",
      "   micro avg       0.90      0.90      0.90     15000\n",
      "   macro avg       0.59      0.57      0.57     15000\n",
      "weighted avg       0.89      0.90      0.89     15000\n",
      "\n",
      "[[13250   656]\n",
      " [  894   200]]\n",
      "Sensivity score is  0.18281535648994515\n",
      "Specificity_score is  0.9528261182223501\n",
      "\n"
     ]
    }
   ],
   "source": [
    "# test on LogisticRegression & RandomForestClassifier & DecisionTreeClassifier\n",
    "for model in [\n",
    "                LogisticRegression(), \n",
    "                RandomForestClassifier(n_jobs=-1, n_estimators=200),\n",
    "                tree.DecisionTreeClassifier()\n",
    "            ]:\n",
    "    model.fit(X_train, y_train)\n",
    "    predictions = model.predict(X_test)\n",
    "    acc = accuracy_score(y_test, predictions)\n",
    "    print('model: {}'.format(model.__str__()))\n",
    "    print('Accuracy is ', accuracy_score(y_test, predictions)*100)\n",
    "    print(classification_report(y_test, predictions))\n",
    "    print(confusion_matrix(y_test,predictions))\n",
    "    print('Sensivity score is ', sensitivity_score(y_test, predictions))\n",
    "    print('Specificity_score is ', specificity_score(y_test, predictions))\n",
    "    print()"
   ]
  },
  {
   "cell_type": "code",
   "execution_count": 38,
   "metadata": {},
   "outputs": [],
   "source": [
    "# Invert train/test datasets into sparse matrix\n",
    "X_train_sparse = sp.csr_matrix(X_train)\n",
    "X_test_sparse = sp.csr_matrix(X_test)"
   ]
  },
  {
   "cell_type": "code",
   "execution_count": 40,
   "metadata": {
    "scrolled": false
   },
   "outputs": [
    {
     "name": "stderr",
     "output_type": "stream",
     "text": [
      "100%|██████████| 50/50 [00:16<00:00,  3.13epoch/s]\n"
     ]
    },
    {
     "name": "stdout",
     "output_type": "stream",
     "text": [
      "[order=2] [rank=10] accuracy: 0.9302666666666667\n",
      "Accuracy is  93.02666666666667\n",
      "              precision    recall  f1-score   support\n",
      "\n",
      "         0.0       0.93      1.00      0.96     13906\n",
      "         1.0       0.84      0.05      0.10      1094\n",
      "\n",
      "   micro avg       0.93      0.93      0.93     15000\n",
      "   macro avg       0.89      0.53      0.53     15000\n",
      "weighted avg       0.92      0.93      0.90     15000\n",
      "\n",
      "[[13895    11]\n",
      " [ 1035    59]]\n",
      "Sensivity score is  0.05393053016453382\n",
      "Specificity_score is  0.9992089745433625\n",
      "\n"
     ]
    },
    {
     "name": "stderr",
     "output_type": "stream",
     "text": [
      "100%|██████████| 50/50 [00:39<00:00,  1.28epoch/s]\n"
     ]
    },
    {
     "name": "stdout",
     "output_type": "stream",
     "text": [
      "[order=2] [rank=30] accuracy: 0.9288\n",
      "Accuracy is  92.88\n",
      "              precision    recall  f1-score   support\n",
      "\n",
      "         0.0       0.93      1.00      0.96     13906\n",
      "         1.0       0.62      0.06      0.11      1094\n",
      "\n",
      "   micro avg       0.93      0.93      0.93     15000\n",
      "   macro avg       0.78      0.53      0.54     15000\n",
      "weighted avg       0.91      0.93      0.90     15000\n",
      "\n",
      "[[13867    39]\n",
      " [ 1029    65]]\n",
      "Sensivity score is  0.05941499085923217\n",
      "Specificity_score is  0.9971954551991946\n",
      "\n"
     ]
    },
    {
     "name": "stderr",
     "output_type": "stream",
     "text": [
      "100%|██████████| 50/50 [00:09<00:00,  5.55epoch/s]\n"
     ]
    },
    {
     "name": "stdout",
     "output_type": "stream",
     "text": [
      "[order=2] [rank=50] accuracy: 0.9276\n",
      "Accuracy is  92.75999999999999\n",
      "              precision    recall  f1-score   support\n",
      "\n",
      "         0.0       0.93      1.00      0.96     13906\n",
      "         1.0       0.53      0.07      0.12      1094\n",
      "\n",
      "   micro avg       0.93      0.93      0.93     15000\n",
      "   macro avg       0.73      0.53      0.54     15000\n",
      "weighted avg       0.90      0.93      0.90     15000\n",
      "\n",
      "[[13842    64]\n",
      " [ 1022    72]]\n",
      "Sensivity score is  0.06581352833638025\n",
      "Specificity_score is  0.9953976700704732\n",
      "\n"
     ]
    },
    {
     "name": "stderr",
     "output_type": "stream",
     "text": [
      "100%|██████████| 50/50 [00:29<00:00,  1.70epoch/s]\n"
     ]
    },
    {
     "name": "stdout",
     "output_type": "stream",
     "text": [
      "[order=3] [rank=10] accuracy: 0.9303333333333333\n",
      "Accuracy is  93.03333333333333\n",
      "              precision    recall  f1-score   support\n",
      "\n",
      "         0.0       0.93      1.00      0.96     13906\n",
      "         1.0       0.80      0.06      0.11      1094\n",
      "\n",
      "   micro avg       0.93      0.93      0.93     15000\n",
      "   macro avg       0.87      0.53      0.54     15000\n",
      "weighted avg       0.92      0.93      0.90     15000\n",
      "\n",
      "[[13890    16]\n",
      " [ 1029    65]]\n",
      "Sensivity score is  0.05941499085923217\n",
      "Specificity_score is  0.9988494175176182\n",
      "\n"
     ]
    },
    {
     "name": "stderr",
     "output_type": "stream",
     "text": [
      "100%|██████████| 50/50 [01:16<00:00,  1.57s/epoch]\n"
     ]
    },
    {
     "name": "stdout",
     "output_type": "stream",
     "text": [
      "[order=3] [rank=30] accuracy: 0.9293333333333333\n",
      "Accuracy is  92.93333333333334\n",
      "              precision    recall  f1-score   support\n",
      "\n",
      "         0.0       0.93      1.00      0.96     13906\n",
      "         1.0       0.64      0.07      0.13      1094\n",
      "\n",
      "   micro avg       0.93      0.93      0.93     15000\n",
      "   macro avg       0.79      0.53      0.55     15000\n",
      "weighted avg       0.91      0.93      0.90     15000\n",
      "\n",
      "[[13863    43]\n",
      " [ 1017    77]]\n",
      "Sensivity score is  0.07038391224862889\n",
      "Specificity_score is  0.9969078095785991\n",
      "\n"
     ]
    },
    {
     "name": "stderr",
     "output_type": "stream",
     "text": [
      "100%|██████████| 50/50 [00:17<00:00,  2.92epoch/s]\n"
     ]
    },
    {
     "name": "stdout",
     "output_type": "stream",
     "text": [
      "[order=3] [rank=50] accuracy: 0.9278666666666666\n",
      "Accuracy is  92.78666666666666\n",
      "              precision    recall  f1-score   support\n",
      "\n",
      "         0.0       0.93      1.00      0.96     13906\n",
      "         1.0       0.54      0.07      0.13      1094\n",
      "\n",
      "   micro avg       0.93      0.93      0.93     15000\n",
      "   macro avg       0.74      0.53      0.54     15000\n",
      "weighted avg       0.90      0.93      0.90     15000\n",
      "\n",
      "[[13840    66]\n",
      " [ 1016    78]]\n",
      "Sensivity score is  0.0712979890310786\n",
      "Specificity_score is  0.9952538472601755\n",
      "\n"
     ]
    }
   ],
   "source": [
    "# Fitting parameters with input_type='sparse' \n",
    "for order in [2, 3]:\n",
    "    for rank in [10,30,50]:\n",
    "        model = TFFMClassifier(\n",
    "        order=order, \n",
    "        rank=rank, \n",
    "        optimizer=tf.train.AdamOptimizer(learning_rate=0.001), \n",
    "        n_epochs=50, \n",
    "        batch_size=1024,\n",
    "        init_std=0.001,\n",
    "        reg=0.01,\n",
    "        input_type='sparse',\n",
    "        seed=42)\n",
    "        model.fit(X_train_sparse, y_train, show_progress=True)\n",
    "        predictions = model.predict(X_test_sparse)\n",
    "        print('[order={}] [rank={}] accuracy: {}'.format(order,rank, accuracy_score(y_test, predictions)))\n",
    "        print('Accuracy is ', accuracy_score(y_test, predictions)*100)\n",
    "        print(classification_report(y_test, predictions))\n",
    "        print(confusion_matrix(y_test,predictions))\n",
    "        print('Sensivity score is ', sensitivity_score(y_test, predictions))\n",
    "        print('Specificity_score is ', specificity_score(y_test, predictions))\n",
    "        print()"
   ]
  },
  {
   "cell_type": "code",
   "execution_count": 41,
   "metadata": {
    "scrolled": false
   },
   "outputs": [
    {
     "name": "stderr",
     "output_type": "stream",
     "text": [
      "100%|██████████| 50/50 [00:20<00:00,  2.39epoch/s]\n"
     ]
    },
    {
     "name": "stdout",
     "output_type": "stream",
     "text": [
      "[order=2] [rank=10] accuracy: 0.9302666666666667\n",
      "Accuracy is  93.02666666666667\n",
      "              precision    recall  f1-score   support\n",
      "\n",
      "         0.0       0.93      1.00      0.96     13906\n",
      "         1.0       0.84      0.05      0.10      1094\n",
      "\n",
      "   micro avg       0.93      0.93      0.93     15000\n",
      "   macro avg       0.89      0.53      0.53     15000\n",
      "weighted avg       0.92      0.93      0.90     15000\n",
      "\n",
      "[[13895    11]\n",
      " [ 1035    59]]\n",
      "Sensivity score is  0.05393053016453382\n",
      "Specificity_score is  0.9992089745433625\n",
      "\n"
     ]
    },
    {
     "name": "stderr",
     "output_type": "stream",
     "text": [
      "100%|██████████| 50/50 [00:23<00:00,  2.14epoch/s]\n"
     ]
    },
    {
     "name": "stdout",
     "output_type": "stream",
     "text": [
      "[order=2] [rank=30] accuracy: 0.9288\n",
      "Accuracy is  92.88\n",
      "              precision    recall  f1-score   support\n",
      "\n",
      "         0.0       0.93      1.00      0.96     13906\n",
      "         1.0       0.62      0.06      0.11      1094\n",
      "\n",
      "   micro avg       0.93      0.93      0.93     15000\n",
      "   macro avg       0.78      0.53      0.54     15000\n",
      "weighted avg       0.91      0.93      0.90     15000\n",
      "\n",
      "[[13867    39]\n",
      " [ 1029    65]]\n",
      "Sensivity score is  0.05941499085923217\n",
      "Specificity_score is  0.9971954551991946\n",
      "\n"
     ]
    },
    {
     "name": "stderr",
     "output_type": "stream",
     "text": [
      "100%|██████████| 50/50 [00:26<00:00,  2.01epoch/s]\n"
     ]
    },
    {
     "name": "stdout",
     "output_type": "stream",
     "text": [
      "[order=2] [rank=50] accuracy: 0.9276\n",
      "Accuracy is  92.75999999999999\n",
      "              precision    recall  f1-score   support\n",
      "\n",
      "         0.0       0.93      1.00      0.96     13906\n",
      "         1.0       0.53      0.07      0.12      1094\n",
      "\n",
      "   micro avg       0.93      0.93      0.93     15000\n",
      "   macro avg       0.73      0.53      0.54     15000\n",
      "weighted avg       0.90      0.93      0.90     15000\n",
      "\n",
      "[[13842    64]\n",
      " [ 1022    72]]\n",
      "Sensivity score is  0.06581352833638025\n",
      "Specificity_score is  0.9953976700704732\n",
      "\n"
     ]
    },
    {
     "name": "stderr",
     "output_type": "stream",
     "text": [
      "100%|██████████| 50/50 [00:48<00:00,  1.01s/epoch]\n"
     ]
    },
    {
     "name": "stdout",
     "output_type": "stream",
     "text": [
      "[order=3] [rank=10] accuracy: 0.9303333333333333\n",
      "Accuracy is  93.03333333333333\n",
      "              precision    recall  f1-score   support\n",
      "\n",
      "         0.0       0.93      1.00      0.96     13906\n",
      "         1.0       0.80      0.06      0.11      1094\n",
      "\n",
      "   micro avg       0.93      0.93      0.93     15000\n",
      "   macro avg       0.87      0.53      0.54     15000\n",
      "weighted avg       0.92      0.93      0.90     15000\n",
      "\n",
      "[[13890    16]\n",
      " [ 1029    65]]\n",
      "Sensivity score is  0.05941499085923217\n",
      "Specificity_score is  0.9988494175176182\n",
      "\n"
     ]
    },
    {
     "name": "stderr",
     "output_type": "stream",
     "text": [
      "100%|██████████| 50/50 [00:55<00:00,  1.07s/epoch]\n"
     ]
    },
    {
     "name": "stdout",
     "output_type": "stream",
     "text": [
      "[order=3] [rank=30] accuracy: 0.9293333333333333\n",
      "Accuracy is  92.93333333333334\n",
      "              precision    recall  f1-score   support\n",
      "\n",
      "         0.0       0.93      1.00      0.96     13906\n",
      "         1.0       0.64      0.07      0.13      1094\n",
      "\n",
      "   micro avg       0.93      0.93      0.93     15000\n",
      "   macro avg       0.79      0.53      0.55     15000\n",
      "weighted avg       0.91      0.93      0.90     15000\n",
      "\n",
      "[[13863    43]\n",
      " [ 1017    77]]\n",
      "Sensivity score is  0.07038391224862889\n",
      "Specificity_score is  0.9969078095785991\n",
      "\n"
     ]
    },
    {
     "name": "stderr",
     "output_type": "stream",
     "text": [
      "100%|██████████| 50/50 [00:59<00:00,  1.16s/epoch]\n"
     ]
    },
    {
     "name": "stdout",
     "output_type": "stream",
     "text": [
      "[order=3] [rank=50] accuracy: 0.9278666666666666\n",
      "Accuracy is  92.78666666666666\n",
      "              precision    recall  f1-score   support\n",
      "\n",
      "         0.0       0.93      1.00      0.96     13906\n",
      "         1.0       0.54      0.07      0.13      1094\n",
      "\n",
      "   micro avg       0.93      0.93      0.93     15000\n",
      "   macro avg       0.74      0.53      0.54     15000\n",
      "weighted avg       0.90      0.93      0.90     15000\n",
      "\n",
      "[[13840    66]\n",
      " [ 1016    78]]\n",
      "Sensivity score is  0.0712979890310786\n",
      "Specificity_score is  0.9952538472601755\n",
      "\n"
     ]
    }
   ],
   "source": [
    "# Fitting parameters with input_type='dense' \n",
    "for order in [2, 3]:\n",
    "    for rank in [10,30,50]:\n",
    "        model = TFFMClassifier(\n",
    "        order=order, \n",
    "        rank=rank, \n",
    "        optimizer=tf.train.AdamOptimizer(learning_rate=0.001), \n",
    "        n_epochs=50, \n",
    "        batch_size=1024,\n",
    "        init_std=0.001,\n",
    "        reg=0.01,\n",
    "        input_type='dense',\n",
    "        seed=42)\n",
    "        model.fit(X_train, y_train, show_progress=True)\n",
    "        predictions = model.predict(X_test)\n",
    "        print('[order={}] [rank={}] accuracy: {}'.format(order,rank, accuracy_score(y_test, predictions)))\n",
    "        print('Accuracy is ', accuracy_score(y_test, predictions)*100)\n",
    "        print(classification_report(y_test, predictions))\n",
    "        print(confusion_matrix(y_test,predictions))\n",
    "        print('Sensivity score is ', sensitivity_score(y_test, predictions))\n",
    "        print('Specificity_score is ', specificity_score(y_test, predictions))\n",
    "        print()"
   ]
  },
  {
   "cell_type": "markdown",
   "metadata": {},
   "source": [
    "## Save/load model"
   ]
  },
  {
   "cell_type": "code",
   "execution_count": null,
   "metadata": {},
   "outputs": [],
   "source": [
    "# internally model need to allocate memory before load previous weights,\n",
    "# so need to set num_features explicitly\n",
    "model.core.set_num_features(X_train.shape[1])\n",
    "model.load_state('./tmp/state.tf')"
   ]
  },
  {
   "cell_type": "markdown",
   "metadata": {},
   "source": [
    "## Optimizers"
   ]
  },
  {
   "cell_type": "code",
   "execution_count": 43,
   "metadata": {},
   "outputs": [
    {
     "data": {
      "image/png": "[encoded data removed]",
      "text/plain": [
       "<Figure size 432x288 with 1 Axes>"
      ]
     },
     "metadata": {
      "needs_background": "light"
     },
     "output_type": "display_data"
    }
   ],
   "source": [
    "# there 2 optimizers will be used: AdamOptimizer and FtrlOptimizer\n",
    "for optim, title in [(tf.train.AdamOptimizer(learning_rate=0.001), 'Adam'), \n",
    "              (tf.train.FtrlOptimizer(0.01, l1_regularization_strength=0.01), 'FTRL')]:\n",
    "    acc = []\n",
    "    model = TFFMClassifier(\n",
    "        order=2, \n",
    "        rank=10, \n",
    "        optimizer=optim,\n",
    "        batch_size=1024,\n",
    "        init_std=0.001,\n",
    "        reg=0.1,\n",
    "        input_type='sparse',\n",
    "    )\n",
    "    n_epochs = 5\n",
    "    anchor_epochs = range(0, 200+1, n_epochs)\n",
    "    for _ in anchor_epochs:\n",
    "        # score result every 5 epochs\n",
    "        model.fit(X_train_sparse, y_train, n_epochs=n_epochs)\n",
    "        predictions = model.predict(X_test_sparse)\n",
    "        acc.append(accuracy_score(y_test, predictions))\n",
    "    plt.plot(anchor_epochs, acc, label=title)\n",
    "    model.destroy()\n",
    "plt.xlabel('n_epochs')\n",
    "plt.ylabel('accuracy')\n",
    "plt.legend()\n",
    "plt.grid()"
   ]
  },
  {
   "cell_type": "code",
   "execution_count": 45,
   "metadata": {},
   "outputs": [
    {
     "name": "stdout",
     "output_type": "stream",
     "text": [
      "CPU only / sparse data\n"
     ]
    },
    {
     "name": "stderr",
     "output_type": "stream",
     "text": [
      "100%|██████████| 100/100 [00:30<00:00,  3.28epoch/s]\n"
     ]
    },
    {
     "name": "stdout",
     "output_type": "stream",
     "text": [
      "accuracy: 0.9303333333333333\n"
     ]
    }
   ],
   "source": [
    "# CPU\n",
    "model = TFFMClassifier(\n",
    "    order=2,\n",
    "    rank=10, \n",
    "    optimizer=tf.train.AdamOptimizer(learning_rate=0.01), \n",
    "    n_epochs=100, \n",
    "    batch_size=-1,\n",
    "    init_std=0.001,\n",
    "    reg=0.001,\n",
    "    input_type='sparse',\n",
    "    session_config=tf.ConfigProto(log_device_placement=True, device_count = {'GPU': 0}),\n",
    "    seed=42\n",
    ")\n",
    "print('CPU only / sparse data')\n",
    "model.fit(X_train_sparse, y_train, show_progress=True)\n",
    "predictions = model.predict(X_test_sparse)\n",
    "print('accuracy: {}'.format(accuracy_score(y_test, predictions)))\n",
    "model.destroy()"
   ]
  },
  {
   "cell_type": "code",
   "execution_count": 46,
   "metadata": {},
   "outputs": [
    {
     "name": "stdout",
     "output_type": "stream",
     "text": [
      "GPU / sparse data\n"
     ]
    },
    {
     "name": "stderr",
     "output_type": "stream",
     "text": [
      "100%|██████████| 100/100 [00:30<00:00,  3.30epoch/s]\n"
     ]
    },
    {
     "name": "stdout",
     "output_type": "stream",
     "text": [
      "accuracy: 0.9303333333333333\n"
     ]
    }
   ],
   "source": [
    "# GPU\n",
    "model = TFFMClassifier(\n",
    "    order=2,\n",
    "    rank=10, \n",
    "    optimizer=tf.train.AdamOptimizer(learning_rate=0.01), \n",
    "    n_epochs=100, \n",
    "    batch_size=-1,\n",
    "    init_std=0.001,\n",
    "    reg=0.001,\n",
    "    input_type='sparse',\n",
    "    session_config=tf.ConfigProto(log_device_placement=True),\n",
    "    seed=42\n",
    ")\n",
    "print('GPU / sparse data')\n",
    "model.fit(X_train_sparse, y_train, show_progress=True)\n",
    "predictions = model.predict(X_test_sparse)\n",
    "print('accuracy: {}'.format(accuracy_score(y_test, predictions)))\n",
    "model.destroy()"
   ]
  },
  {
   "cell_type": "markdown",
   "metadata": {},
   "source": [
    "## Weighted Loss Function"
   ]
  },
  {
   "cell_type": "code",
   "execution_count": 47,
   "metadata": {},
   "outputs": [
    {
     "name": "stdout",
     "output_type": "stream",
     "text": [
      "Classes balance: 0.926 / 0.074\n"
     ]
    }
   ],
   "source": [
    "print('Classes balance: {:.03f} / {:.03f}'.format(np.mean(labels_list_array==0), \n",
    "                                                  np.mean(labels_list_array==1)))"
   ]
  },
  {
   "cell_type": "code",
   "execution_count": 48,
   "metadata": {},
   "outputs": [
    {
     "data": {
      "text/plain": [
       "0.07378"
      ]
     },
     "execution_count": 48,
     "metadata": {},
     "output_type": "execute_result"
    }
   ],
   "source": [
    "np.mean(labels_list_array==1)"
   ]
  },
  {
   "cell_type": "code",
   "execution_count": 50,
   "metadata": {},
   "outputs": [
    {
     "name": "stderr",
     "output_type": "stream",
     "text": [
      "100%|██████████| 50/50 [00:16<00:00,  3.18epoch/s]\n"
     ]
    },
    {
     "name": "stdout",
     "output_type": "stream",
     "text": [
      "[order=2] [rank=50] accuracy: 0.6616666666666666\n",
      "Accuracy is  66.16666666666666\n",
      "              precision    recall  f1-score   support\n",
      "\n",
      "         0.0       0.98      0.65      0.78     13906\n",
      "         1.0       0.16      0.87      0.27      1094\n",
      "\n",
      "   micro avg       0.66      0.66      0.66     15000\n",
      "   macro avg       0.57      0.76      0.53     15000\n",
      "weighted avg       0.92      0.66      0.74     15000\n",
      "\n",
      "[[8978 4928]\n",
      " [ 147  947]]\n",
      "Sensivity score is  0.8656307129798904\n",
      "Specificity_score is  0.6456205954264347\n"
     ]
    }
   ],
   "source": [
    "# sample_weight='balanced'\n",
    "order = 2\n",
    "model = TFFMClassifier(\n",
    "    order=order,\n",
    "    sample_weight='balanced',\n",
    "    rank=10, \n",
    "    optimizer=tf.train.AdamOptimizer(learning_rate=0.001), \n",
    "    n_epochs=50, \n",
    "    batch_size=1024,\n",
    "    init_std=0.001,\n",
    "    reg=0.01,\n",
    "    input_type='sparse',\n",
    "    seed=42\n",
    ")\n",
    "model.fit(X_train_sparse, y_train, show_progress=True)\n",
    "predictions = model.predict(X_test_sparse)\n",
    "print('[order={}] [rank={}] accuracy: {}'.format(order,rank, accuracy_score(y_test, predictions)))\n",
    "print('Accuracy is ', accuracy_score(y_test, predictions)*100)\n",
    "print(classification_report(y_test, predictions))\n",
    "print(confusion_matrix(y_test,predictions))\n",
    "print('Sensivity score is ', sensitivity_score(y_test, predictions))\n",
    "print('Specificity_score is ', specificity_score(y_test, predictions))\n",
    "model.destroy()"
   ]
  },
  {
   "cell_type": "code",
   "execution_count": 51,
   "metadata": {},
   "outputs": [
    {
     "name": "stderr",
     "output_type": "stream",
     "text": [
      "100%|██████████| 40/40 [00:12<00:00,  3.16epoch/s]\n"
     ]
    },
    {
     "name": "stdout",
     "output_type": "stream",
     "text": [
      "[order=2] [rank=50] accuracy: 0.9305333333333333\n",
      "Accuracy is  93.05333333333333\n",
      "              precision    recall  f1-score   support\n",
      "\n",
      "         0.0       0.93      1.00      0.96     13906\n",
      "         1.0       0.91      0.05      0.10      1094\n",
      "\n",
      "   micro avg       0.93      0.93      0.93     15000\n",
      "   macro avg       0.92      0.53      0.53     15000\n",
      "weighted avg       0.93      0.93      0.90     15000\n",
      "\n",
      "[[13900     6]\n",
      " [ 1036    58]]\n",
      "Sensivity score is  0.05301645338208409\n",
      "Specificity_score is  0.9995685315691069\n"
     ]
    },
    {
     "name": "stderr",
     "output_type": "stream",
     "text": [
      "100%|██████████| 40/40 [00:13<00:00,  3.08epoch/s]\n"
     ]
    },
    {
     "name": "stdout",
     "output_type": "stream",
     "text": [
      "[order=2] [rank=50] accuracy: 0.927\n",
      "Accuracy is  92.7\n",
      "              precision    recall  f1-score   support\n",
      "\n",
      "         0.0       0.93      0.99      0.96     13906\n",
      "         1.0       0.50      0.07      0.13      1094\n",
      "\n",
      "   micro avg       0.93      0.93      0.93     15000\n",
      "   macro avg       0.71      0.53      0.55     15000\n",
      "weighted avg       0.90      0.93      0.90     15000\n",
      "\n",
      "[[13824    82]\n",
      " [ 1013    81]]\n",
      "Sensivity score is  0.0740402193784278\n",
      "Specificity_score is  0.9941032647777938\n"
     ]
    },
    {
     "name": "stderr",
     "output_type": "stream",
     "text": [
      "100%|██████████| 40/40 [00:13<00:00,  3.16epoch/s]\n"
     ]
    },
    {
     "name": "stdout",
     "output_type": "stream",
     "text": [
      "[order=2] [rank=50] accuracy: 0.9197333333333333\n",
      "Accuracy is  91.97333333333333\n",
      "              precision    recall  f1-score   support\n",
      "\n",
      "         0.0       0.93      0.98      0.96     13906\n",
      "         1.0       0.35      0.12      0.17      1094\n",
      "\n",
      "   micro avg       0.92      0.92      0.92     15000\n",
      "   macro avg       0.64      0.55      0.57     15000\n",
      "weighted avg       0.89      0.92      0.90     15000\n",
      "\n",
      "[[13669   237]\n",
      " [  967   127]]\n",
      "Sensivity score is  0.11608775137111517\n",
      "Specificity_score is  0.9829569969797209\n"
     ]
    },
    {
     "name": "stderr",
     "output_type": "stream",
     "text": [
      "100%|██████████| 40/40 [00:12<00:00,  3.17epoch/s]\n"
     ]
    },
    {
     "name": "stdout",
     "output_type": "stream",
     "text": [
      "[order=2] [rank=50] accuracy: 0.9002\n",
      "Accuracy is  90.02\n",
      "              precision    recall  f1-score   support\n",
      "\n",
      "         0.0       0.94      0.95      0.95     13906\n",
      "         1.0       0.26      0.21      0.23      1094\n",
      "\n",
      "   micro avg       0.90      0.90      0.90     15000\n",
      "   macro avg       0.60      0.58      0.59     15000\n",
      "weighted avg       0.89      0.90      0.89     15000\n",
      "\n",
      "[[13277   629]\n",
      " [  868   226]]\n",
      "Sensivity score is  0.20658135283363802\n",
      "Specificity_score is  0.9547677261613692\n"
     ]
    }
   ],
   "source": [
    "# weight - optional\n",
    "pos_class_weight = list(map(float,range(1, 5)))\n",
    "for weight in pos_class_weight:\n",
    "    order = 2\n",
    "    model = TFFMClassifier(\n",
    "        order=order,\n",
    "        pos_class_weight=weight,\n",
    "        rank=10, \n",
    "        optimizer=tf.train.AdamOptimizer(learning_rate=0.001), \n",
    "        n_epochs=40, \n",
    "        batch_size=1024,\n",
    "        init_std=0.001,\n",
    "        reg=0.01,\n",
    "        input_type='sparse',\n",
    "        seed=42\n",
    "    )\n",
    "    model.fit(X_train_sparse, y_train, show_progress=True)\n",
    "    predictions = model.predict(X_test_sparse)\n",
    "    print('[order={}] [rank={}] accuracy: {}'.format(order,rank, accuracy_score(y_test, predictions)))\n",
    "    print('Accuracy is ', accuracy_score(y_test, predictions)*100)\n",
    "    print(classification_report(y_test, predictions))\n",
    "    print(confusion_matrix(y_test,predictions))\n",
    "    print('Sensivity score is ', sensitivity_score(y_test, predictions))\n",
    "    print('Specificity_score is ', specificity_score(y_test, predictions))\n",
    "    model.destroy()"
   ]
  },
  {
   "cell_type": "markdown",
   "metadata": {},
   "source": [
    "## Different regularization strategies"
   ]
  },
  {
   "cell_type": "code",
   "execution_count": 52,
   "metadata": {},
   "outputs": [
    {
     "name": "stdout",
     "output_type": "stream",
     "text": [
      "WARNING:tensorflow:From C:\\Users\\maksim.parats\\AppData\\Local\\Programs\\Python\\Python36\\lib\\site-packages\\tffm\\utils.py:189: calling sparse_reduce_sum (from tensorflow.python.ops.sparse_ops) with keep_dims is deprecated and will be removed in a future version.\n",
      "Instructions for updating:\n",
      "keep_dims is deprecated, use keepdims instead\n"
     ]
    },
    {
     "data": {
      "image/png": "[encoded data removed]",
      "text/plain": [
       "<Figure size 432x288 with 1 Axes>"
      ]
     },
     "metadata": {
      "needs_background": "light"
     },
     "output_type": "display_data"
    }
   ],
   "source": [
    "for use_reweight, title in [(False, 'no reweight reg'), (True, 'reweight reg')]:\n",
    "    acc = []\n",
    "    model = TFFMClassifier(\n",
    "        order=2, \n",
    "        rank=10, \n",
    "        optimizer=tf.train.AdamOptimizer(learning_rate=0.001),\n",
    "        batch_size=1024,\n",
    "        init_std=0.001,\n",
    "        reg=1.0,\n",
    "        input_type='sparse',\n",
    "        reweight_reg = use_reweight\n",
    "    )\n",
    "    n_epochs = 2\n",
    "    anchor_epochs = range(0, 20+1, n_epochs)\n",
    "    for _ in anchor_epochs:\n",
    "        # score result every 5 epochs\n",
    "        model.fit(X_train_sparse, y_train, n_epochs=n_epochs)\n",
    "        predictions = model.predict(X_test_sparse)\n",
    "        acc.append(accuracy_score(y_test, predictions))\n",
    "    plt.plot(anchor_epochs, acc, label=title)\n",
    "    model.destroy()\n",
    "plt.xlabel('n_epochs')\n",
    "plt.ylabel('accuracy')\n",
    "plt.legend(loc=4)\n",
    "plt.grid()"
   ]
  },
  {
   "cell_type": "markdown",
   "metadata": {},
   "source": [
    "Parameters\n",
    "    ----------\n",
    "    order : int, default: 2\n",
    "        Order of corresponding polynomial model.\n",
    "        All interaction from bias and linear to order will be included.\n",
    "    rank : int, default: 5\n",
    "        Number of factors in low-rank appoximation.\n",
    "        This value is shared across different orders of interaction.\n",
    "    input_type : str, 'dense' or 'sparse', default: 'dense'\n",
    "        Type of input data. Only numpy.array allowed for 'dense' and\n",
    "        scipy.sparse.csr_matrix for 'sparse'. This affects construction of\n",
    "        computational graph and cannot be changed during training/testing.\n",
    "    loss_function : function: (tf.Op, tf.Op) -> tf.Op, default: None\n",
    "        Loss function.\n",
    "        Take 2 tf.Ops: outputs and targets and should return tf.Op of loss\n",
    "        See examples: .utils.loss_mse, .utils.loss_logistic\n",
    "    optimizer : tf.train.Optimizer, default: AdamOptimizer(learning_rate=0.01)\n",
    "        Optimization method used for training\n",
    "    reg : float, default: 0\n",
    "        Strength of L2 regularization\n",
    "    use_diag : bool, default: False\n",
    "        Use diagonal elements of weights matrix or not.\n",
    "        In the other words, should terms like x^2 be included.\n",
    "        Ofter reffered as a \"Polynomial Network\".\n",
    "        Default value (False) corresponds to FM.\n",
    "    reweight_reg : bool, default: False\n",
    "        Use frequency of features as weights for regularization or not.\n",
    "        Should be usefull for very sparse data and/or small batches\n",
    "    init_std : float, default: 0.01\n",
    "        Amplitude of random initialization\n",
    "    seed : int or None, default: None\n",
    "        Random seed used at graph creating time"
   ]
  }
 ],
 "metadata": {
  "kernelspec": {
   "display_name": "Python 3",
   "language": "python",
   "name": "python3"
  },
  "language_info": {
   "codemirror_mode": {
    "name": "ipython",
    "version": 3
   },
   "file_extension": ".py",
   "mimetype": "text/x-python",
   "name": "python",
   "nbconvert_exporter": "python",
   "pygments_lexer": "ipython3",
   "version": "3.6.6"
  }
 },
 "nbformat": 4,
 "nbformat_minor": 2
}
